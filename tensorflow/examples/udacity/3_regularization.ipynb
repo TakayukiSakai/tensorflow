{
 "cells": [
  {
   "cell_type": "markdown",
   "metadata": {
    "colab_type": "text",
    "id": "kR-4eNdK6lYS"
   },
   "source": [
    "Deep Learning\n",
    "=============\n",
    "\n",
    "Assignment 3\n",
    "------------\n",
    "\n",
    "Previously in `2_fullyconnected.ipynb`, you trained a logistic regression and a neural network model.\n",
    "\n",
    "The goal of this assignment is to explore regularization techniques."
   ]
  },
  {
   "cell_type": "code",
   "execution_count": 1,
   "metadata": {
    "cellView": "both",
    "colab": {
     "autoexec": {
      "startup": false,
      "wait_interval": 0
     }
    },
    "colab_type": "code",
    "collapsed": false,
    "id": "JLpLa8Jt7Vu4"
   },
   "outputs": [],
   "source": [
    "# These are all the modules we'll be using later. Make sure you can import them\n",
    "# before proceeding further.\n",
    "from __future__ import print_function\n",
    "import numpy as np\n",
    "import tensorflow as tf\n",
    "from six.moves import cPickle as pickle"
   ]
  },
  {
   "cell_type": "markdown",
   "metadata": {
    "colab_type": "text",
    "id": "1HrCK6e17WzV"
   },
   "source": [
    "First reload the data we generated in _notmist.ipynb_."
   ]
  },
  {
   "cell_type": "code",
   "execution_count": 2,
   "metadata": {
    "cellView": "both",
    "colab": {
     "autoexec": {
      "startup": false,
      "wait_interval": 0
     },
     "output_extras": [
      {
       "item_id": 1
      }
     ]
    },
    "colab_type": "code",
    "collapsed": false,
    "executionInfo": {
     "elapsed": 11777,
     "status": "ok",
     "timestamp": 1449849322348,
     "user": {
      "color": "",
      "displayName": "",
      "isAnonymous": false,
      "isMe": true,
      "permissionId": "",
      "photoUrl": "",
      "sessionId": "0",
      "userId": ""
     },
     "user_tz": 480
    },
    "id": "y3-cj1bpmuxc",
    "outputId": "e03576f1-ebbe-4838-c388-f1777bcc9873"
   },
   "outputs": [
    {
     "name": "stdout",
     "output_type": "stream",
     "text": [
      "Training set (200000, 28, 28) (200000,)\n",
      "Validation set (10000, 28, 28) (10000,)\n",
      "Test set (10000, 28, 28) (10000,)\n"
     ]
    }
   ],
   "source": [
    "pickle_file = 'notMNIST.pickle'\n",
    "\n",
    "with open(pickle_file, 'rb') as f:\n",
    "  save = pickle.load(f)\n",
    "  train_dataset = save['train_dataset']\n",
    "  train_labels = save['train_labels']\n",
    "  valid_dataset = save['valid_dataset']\n",
    "  valid_labels = save['valid_labels']\n",
    "  test_dataset = save['test_dataset']\n",
    "  test_labels = save['test_labels']\n",
    "  del save  # hint to help gc free up memory\n",
    "  print('Training set', train_dataset.shape, train_labels.shape)\n",
    "  print('Validation set', valid_dataset.shape, valid_labels.shape)\n",
    "  print('Test set', test_dataset.shape, test_labels.shape)"
   ]
  },
  {
   "cell_type": "markdown",
   "metadata": {
    "colab_type": "text",
    "id": "L7aHrm6nGDMB"
   },
   "source": [
    "Reformat into a shape that's more adapted to the models we're going to train:\n",
    "- data as a flat matrix,\n",
    "- labels as float 1-hot encodings."
   ]
  },
  {
   "cell_type": "code",
   "execution_count": 3,
   "metadata": {
    "cellView": "both",
    "colab": {
     "autoexec": {
      "startup": false,
      "wait_interval": 0
     },
     "output_extras": [
      {
       "item_id": 1
      }
     ]
    },
    "colab_type": "code",
    "collapsed": false,
    "executionInfo": {
     "elapsed": 11728,
     "status": "ok",
     "timestamp": 1449849322356,
     "user": {
      "color": "",
      "displayName": "",
      "isAnonymous": false,
      "isMe": true,
      "permissionId": "",
      "photoUrl": "",
      "sessionId": "0",
      "userId": ""
     },
     "user_tz": 480
    },
    "id": "IRSyYiIIGIzS",
    "outputId": "3f8996ee-3574-4f44-c953-5c8a04636582",
    "scrolled": true
   },
   "outputs": [
    {
     "name": "stdout",
     "output_type": "stream",
     "text": [
      "Training set (200000, 784) (200000, 10)\n",
      "Validation set (10000, 784) (10000, 10)\n",
      "Test set (10000, 784) (10000, 10)\n"
     ]
    }
   ],
   "source": [
    "image_size = 28\n",
    "num_labels = 10\n",
    "\n",
    "def reformat(dataset, labels):\n",
    "  dataset = dataset.reshape((-1, image_size * image_size)).astype(np.float32)\n",
    "  # Map 2 to [0.0, 1.0, 0.0 ...], 3 to [0.0, 0.0, 1.0 ...]\n",
    "  labels = (np.arange(num_labels) == labels[:,None]).astype(np.float32)\n",
    "  return dataset, labels\n",
    "train_dataset, train_labels = reformat(train_dataset, train_labels)\n",
    "valid_dataset, valid_labels = reformat(valid_dataset, valid_labels)\n",
    "test_dataset, test_labels = reformat(test_dataset, test_labels)\n",
    "print('Training set', train_dataset.shape, train_labels.shape)\n",
    "print('Validation set', valid_dataset.shape, valid_labels.shape)\n",
    "print('Test set', test_dataset.shape, test_labels.shape)"
   ]
  },
  {
   "cell_type": "code",
   "execution_count": 4,
   "metadata": {
    "collapsed": true
   },
   "outputs": [],
   "source": [
    "def acc(predictions, labels):\n",
    "  return (100.0 * np.sum(np.argmax(predictions, 1) == np.argmax(labels, 1))\n",
    "          / predictions.shape[0])"
   ]
  },
  {
   "cell_type": "markdown",
   "metadata": {
    "colab_type": "text",
    "id": "sgLbUAQ1CW-1"
   },
   "source": [
    "---\n",
    "Problem 1\n",
    "---------\n",
    "\n",
    "Introduce and tune L2 regularization for both logistic and neural network models. Remember that L2 amounts to adding a penalty on the norm of the weights to the loss. In TensorFlow, you can compute the L2 loss for a tensor `t` using `nn.l2_loss(t)`. The right amount of regularization should improve your validation / test accuracy.\n",
    "\n",
    "---"
   ]
  },
  {
   "cell_type": "markdown",
   "metadata": {},
   "source": [
    "### Logistic Regression"
   ]
  },
  {
   "cell_type": "code",
   "execution_count": 5,
   "metadata": {
    "collapsed": false
   },
   "outputs": [],
   "source": [
    "batch_size = 128\n",
    "\n",
    "graph = tf.Graph()\n",
    "with graph.as_default():\n",
    "\n",
    "  # Input data. For the training data, we use a placeholder that will be fed\n",
    "  # at run time with a training minibatch.\n",
    "  tf_train_dataset = tf.placeholder(tf.float32,\n",
    "                                    shape=(batch_size, image_size * image_size))\n",
    "  tf_train_labels = tf.placeholder(tf.float32, shape=(batch_size, num_labels))\n",
    "  tf_valid_dataset = tf.constant(valid_dataset)\n",
    "  tf_test_dataset = tf.constant(test_dataset)\n",
    "  \n",
    "  # Variables.\n",
    "  weights = tf.Variable(\n",
    "    tf.truncated_normal([image_size * image_size, num_labels]))\n",
    "  biases = tf.Variable(tf.zeros([num_labels]))\n",
    "  \n",
    "  # Training computation.\n",
    "  logits = tf.matmul(tf_train_dataset, weights) + biases\n",
    "  loss = tf.reduce_mean(\n",
    "    tf.nn.softmax_cross_entropy_with_logits(logits, tf_train_labels))\n",
    "  \n",
    "  # Optimizer.\n",
    "  optimizer = tf.train.GradientDescentOptimizer(0.5).minimize(loss + 5e-4 * tf.nn.l2_loss(weights))\n",
    "  \n",
    "  # Predictions for the training, validation, and test data.\n",
    "  train_prediction = tf.nn.softmax(logits)\n",
    "  valid_prediction = tf.nn.softmax(\n",
    "    tf.matmul(tf_valid_dataset, weights) + biases)\n",
    "  test_prediction = tf.nn.softmax(tf.matmul(tf_test_dataset, weights) + biases)"
   ]
  },
  {
   "cell_type": "code",
   "execution_count": 6,
   "metadata": {
    "collapsed": false
   },
   "outputs": [
    {
     "name": "stdout",
     "output_type": "stream",
     "text": [
      "Initialized\n",
      "Minibatch loss at step 0: 15.700172\n",
      "Minibatch accuracy: 13.3%\n",
      "Validation accuracy: 17.7%\n",
      "Minibatch loss at step 1000: 1.047611\n",
      "Minibatch accuracy: 80.5%\n",
      "Validation accuracy: 77.4%\n",
      "Minibatch loss at step 2000: 0.953297\n",
      "Minibatch accuracy: 78.9%\n",
      "Validation accuracy: 79.1%\n",
      "Minibatch loss at step 3000: 0.735120\n",
      "Minibatch accuracy: 79.7%\n",
      "Validation accuracy: 80.9%\n",
      "Minibatch loss at step 4000: 0.429398\n",
      "Minibatch accuracy: 88.3%\n",
      "Validation accuracy: 81.8%\n",
      "Minibatch loss at step 5000: 0.827257\n",
      "Minibatch accuracy: 80.5%\n",
      "Validation accuracy: 81.6%\n",
      "Minibatch loss at step 6000: 0.562103\n",
      "Minibatch accuracy: 82.0%\n",
      "Validation accuracy: 81.3%\n",
      "Minibatch loss at step 7000: 0.628133\n",
      "Minibatch accuracy: 80.5%\n",
      "Validation accuracy: 82.2%\n",
      "Minibatch loss at step 8000: 0.783334\n",
      "Minibatch accuracy: 81.2%\n",
      "Validation accuracy: 80.9%\n",
      "Minibatch loss at step 9000: 0.566038\n",
      "Minibatch accuracy: 81.2%\n",
      "Validation accuracy: 82.2%\n",
      "Minibatch loss at step 10000: 0.706487\n",
      "Minibatch accuracy: 84.4%\n",
      "Validation accuracy: 82.0%\n",
      "Test accuracy: 88.5%\n"
     ]
    }
   ],
   "source": [
    "num_steps = 10001\n",
    "\n",
    "with tf.Session(graph=graph) as session:\n",
    "  tf.initialize_all_variables().run()\n",
    "  print(\"Initialized\")\n",
    "  for step in range(num_steps):\n",
    "    # Pick an offset within the training data, which has been randomized.\n",
    "    # Note: we could use better randomization across epochs.\n",
    "    offset = (step * batch_size) % (train_labels.shape[0] - batch_size)\n",
    "    # Generate a minibatch.\n",
    "    batch_data = train_dataset[offset:(offset + batch_size), :]\n",
    "    batch_labels = train_labels[offset:(offset + batch_size), :]\n",
    "    # Prepare a dictionary telling the session where to feed the minibatch.\n",
    "    # The key of the dictionary is the placeholder node of the graph to be fed,\n",
    "    # and the value is the numpy array to feed to it.\n",
    "    feed_dict = {tf_train_dataset : batch_data, tf_train_labels : batch_labels}\n",
    "    _, l, predictions = session.run(\n",
    "      [optimizer, loss, train_prediction], feed_dict=feed_dict)\n",
    "    if (step % 1000 == 0):\n",
    "      print(\"Minibatch loss at step %d: %f\" % (step, l))\n",
    "      print(\"Minibatch accuracy: %.1f%%\" % acc(predictions, batch_labels))\n",
    "      print(\"Validation accuracy: %.1f%%\" % acc(\n",
    "        valid_prediction.eval(), valid_labels))\n",
    "  print(\"Test accuracy: %.1f%%\" % acc(test_prediction.eval(), test_labels))"
   ]
  },
  {
   "cell_type": "markdown",
   "metadata": {},
   "source": [
    "### Neural Network (1 hidden layer)"
   ]
  },
  {
   "cell_type": "code",
   "execution_count": 7,
   "metadata": {
    "collapsed": true
   },
   "outputs": [],
   "source": [
    "batch_size = 128\n",
    "num_hidden = 2048\n",
    "\n",
    "graph = tf.Graph()\n",
    "with graph.as_default():\n",
    "\n",
    "  # Input data. For the training data, we use a placeholder that will be fed\n",
    "  # at run time with a training minibatch.\n",
    "  x = tf.placeholder(tf.float32, shape=(None, image_size * image_size))\n",
    "  y_ = tf.placeholder(tf.float32, shape=(None, num_labels))\n",
    "  keep_prob = tf.placeholder('float')\n",
    "    \n",
    "  # Variables. (Input -> Hidden)\n",
    "  w_1 = tf.Variable(\n",
    "    tf.truncated_normal([image_size * image_size, num_hidden]))\n",
    "  b_1 = tf.Variable(tf.zeros([num_hidden]))\n",
    "\n",
    "  # Training computation. (Input -> Hidden)\n",
    "  h_1 = tf.nn.dropout(tf.nn.relu(tf.matmul(x, w_1) + b_1), 0.5)\n",
    "  \n",
    "  # Variables. (Hidden -> Output)\n",
    "  w_2 = tf.Variable(\n",
    "    tf.truncated_normal([num_hidden, num_labels]))\n",
    "  b_2 = tf.Variable(tf.zeros([num_labels]))\n",
    "    \n",
    "  # Training computation. (Hidden -> Output)\n",
    "  h_2 = tf.matmul(h_1, w_2) + b_2\n",
    "  \n",
    "  # Loss\n",
    "  loss = tf.reduce_mean(\n",
    "    tf.nn.softmax_cross_entropy_with_logits(h_2, y_))\n",
    "  \n",
    "  # Optimizer.\n",
    "  optimizer = tf.train.AdagradOptimizer(1e-3).minimize(loss + 5e-4 * (tf.nn.l2_loss(w_1) + tf.nn.l2_loss(w_2)))\n",
    "  \n",
    "  # Predictions for the training, validation, and test data.\n",
    "  prediction = tf.nn.softmax(h_2)\n",
    "\n",
    "  correct_prediction = tf.equal(tf.argmax(prediction,1), tf.argmax(y_,1))\n",
    "  accuracy = tf.reduce_mean(tf.cast(correct_prediction, 'float'))"
   ]
  },
  {
   "cell_type": "code",
   "execution_count": 8,
   "metadata": {
    "collapsed": false
   },
   "outputs": [
    {
     "name": "stdout",
     "output_type": "stream",
     "text": [
      "Initialized\n",
      "Minibatch loss at step 0: 666.305664\n",
      "Validation accuracy: 10.9%\n",
      "Minibatch loss at step 2000: 219.845444\n",
      "Validation accuracy: 60.7%\n",
      "Minibatch loss at step 4000: 111.434731\n",
      "Validation accuracy: 65.0%\n",
      "Minibatch loss at step 6000: 134.186325\n",
      "Validation accuracy: 67.8%\n",
      "Minibatch loss at step 8000: 167.049652\n",
      "Validation accuracy: 69.3%\n",
      "Minibatch loss at step 10000: 148.302643\n",
      "Validation accuracy: 70.1%\n",
      "Minibatch loss at step 12000: 128.502075\n",
      "Validation accuracy: 70.4%\n",
      "Minibatch loss at step 14000: 114.258560\n",
      "Validation accuracy: 70.9%\n",
      "Minibatch loss at step 16000: 139.722672\n",
      "Validation accuracy: 71.4%\n",
      "Minibatch loss at step 18000: 97.424637\n",
      "Validation accuracy: 71.7%\n",
      "Minibatch loss at step 20000: 71.895927\n",
      "Validation accuracy: 72.2%\n",
      "Minibatch loss at step 22000: 111.910652\n",
      "Validation accuracy: 72.5%\n",
      "Minibatch loss at step 24000: 105.544632\n",
      "Validation accuracy: 72.7%\n",
      "Minibatch loss at step 26000: 87.480385\n",
      "Validation accuracy: 73.4%\n",
      "Minibatch loss at step 28000: 95.903397\n",
      "Validation accuracy: 73.4%\n",
      "Minibatch loss at step 30000: 109.879532\n",
      "Validation accuracy: 73.7%\n",
      "Test accuracy: 80.8%\n"
     ]
    }
   ],
   "source": [
    "num_steps = 30001\n",
    "\n",
    "with tf.Session(graph=graph) as session:\n",
    "  tf.initialize_all_variables().run()\n",
    "  print(\"Initialized\")\n",
    "  for step in range(num_steps):\n",
    "    # Pick an offset within the training data, which has been randomized.\n",
    "    # Note: we could use better randomization across epochs.\n",
    "    offset = (step * batch_size) % (train_labels.shape[0] - batch_size)\n",
    "    # Generate a minibatch.\n",
    "    batch_data = train_dataset[offset:(offset + batch_size), :]\n",
    "    batch_labels = train_labels[offset:(offset + batch_size), :]\n",
    "    # Prepare a dictionary telling the session where to feed the minibatch.\n",
    "    # The key of the dictionary is the placeholder node of the graph to be fed,\n",
    "    # and the value is the numpy array to feed to it.\n",
    "    feed_dict = {x: batch_data, y_: batch_labels, keep_prob: 0.5}\n",
    "    _, l = session.run(\n",
    "      [optimizer, loss], feed_dict=feed_dict)\n",
    "    if (step % 2000 == 0):\n",
    "      print(\"Minibatch loss at step %d: %f\" % (step, l))\n",
    "      print(\"Validation accuracy: %.1f%%\" % (accuracy.eval(feed_dict={x: valid_dataset, y_: valid_labels, keep_prob: 1.0}) * 100))\n",
    "  print(\"Test accuracy: %.1f%%\" % (accuracy.eval(feed_dict={x: test_dataset, y_: test_labels, keep_prob: 1.0}) * 100))"
   ]
  },
  {
   "cell_type": "markdown",
   "metadata": {
    "colab_type": "text",
    "id": "na8xX2yHZzNF"
   },
   "source": [
    "---\n",
    "Problem 2\n",
    "---------\n",
    "Let's demonstrate an extreme case of overfitting. Restrict your training data to just a few batches. What happens?\n",
    "\n",
    "---"
   ]
  },
  {
   "cell_type": "markdown",
   "metadata": {},
   "source": [
    "### Oviously, the model is overfitted"
   ]
  },
  {
   "cell_type": "code",
   "execution_count": 9,
   "metadata": {
    "collapsed": false
   },
   "outputs": [
    {
     "name": "stdout",
     "output_type": "stream",
     "text": [
      "Initialized\n",
      "Minibatch loss at step 0: 667.905762\n",
      "Validation accuracy: 8.1%\n",
      "Minibatch loss at step 2000: 128.714310\n",
      "Validation accuracy: 58.2%\n",
      "Minibatch loss at step 4000: 72.877907\n",
      "Validation accuracy: 63.0%\n",
      "Minibatch loss at step 6000: 77.184540\n",
      "Validation accuracy: 64.5%\n",
      "Minibatch loss at step 8000: 63.037251\n",
      "Validation accuracy: 66.1%\n",
      "Minibatch loss at step 10000: 33.229725\n",
      "Validation accuracy: 67.7%\n",
      "Minibatch loss at step 12000: 40.965000\n",
      "Validation accuracy: 68.1%\n",
      "Minibatch loss at step 14000: 52.464226\n",
      "Validation accuracy: 67.9%\n",
      "Minibatch loss at step 16000: 35.694748\n",
      "Validation accuracy: 69.2%\n",
      "Minibatch loss at step 18000: 21.793943\n",
      "Validation accuracy: 69.4%\n",
      "Minibatch loss at step 20000: 24.060169\n",
      "Validation accuracy: 69.3%\n",
      "Minibatch loss at step 22000: 11.778533\n",
      "Validation accuracy: 69.6%\n",
      "Minibatch loss at step 24000: 35.231609\n",
      "Validation accuracy: 69.7%\n",
      "Minibatch loss at step 26000: 30.743317\n",
      "Validation accuracy: 69.9%\n",
      "Minibatch loss at step 28000: 19.866440\n",
      "Validation accuracy: 70.2%\n",
      "Minibatch loss at step 30000: 15.725492\n",
      "Validation accuracy: 70.5%\n",
      "Test accuracy: 77.3%\n"
     ]
    }
   ],
   "source": [
    "num_steps = 30001\n",
    "train_data_size = 1000\n",
    "\n",
    "part_train_dataset = train_dataset[:train_data_size, :]\n",
    "part_train_labels = train_labels[:train_data_size]\n",
    "\n",
    "with tf.Session(graph=graph) as session:\n",
    "  tf.initialize_all_variables().run()\n",
    "  print(\"Initialized\")\n",
    "  for step in range(num_steps):\n",
    "    # Pick an offset within the training data, which has been randomized.\n",
    "    # Note: we could use better randomization across epochs.\n",
    "    offset = (step * batch_size) % (part_train_labels.shape[0] - batch_size)\n",
    "    # Generate a minibatch.\n",
    "    batch_data = part_train_dataset[offset:(offset + batch_size), :]\n",
    "    batch_labels = part_train_labels[offset:(offset + batch_size), :]\n",
    "    # Prepare a dictionary telling the session where to feed the minibatch.\n",
    "    # The key of the dictionary is the placeholder node of the graph to be fed,\n",
    "    # and the value is the numpy array to feed to it.\n",
    "    feed_dict = {x: batch_data, y_: batch_labels, keep_prob: 0.5}\n",
    "    _, l = session.run(\n",
    "      [optimizer, loss], feed_dict=feed_dict)\n",
    "    if (step % 2000 == 0):\n",
    "      print(\"Minibatch loss at step %d: %f\" % (step, l))\n",
    "      print(\"Validation accuracy: %.1f%%\" % (accuracy.eval(feed_dict={x: valid_dataset, y_: valid_labels, keep_prob: 1.0}) * 100))\n",
    "  print(\"Test accuracy: %.1f%%\" % (accuracy.eval(feed_dict={x: test_dataset, y_: test_labels, keep_prob: 1.0}) * 100))"
   ]
  },
  {
   "cell_type": "markdown",
   "metadata": {
    "colab_type": "text",
    "id": "ww3SCBUdlkRc"
   },
   "source": [
    "---\n",
    "Problem 3\n",
    "---------\n",
    "Introduce Dropout on the hidden layer of the neural network. Remember: Dropout should only be introduced during training, not evaluation, otherwise your evaluation results would be stochastic as well. TensorFlow provides `nn.dropout()` for that, but you have to make sure it's only inserted during training.\n",
    "\n",
    "What happens to our extreme overfitting case?\n",
    "\n",
    "---"
   ]
  },
  {
   "cell_type": "markdown",
   "metadata": {
    "colab_type": "text",
    "id": "-b1hTz3VWZjw"
   },
   "source": [
    "---\n",
    "Problem 4\n",
    "---------\n",
    "\n",
    "Try to get the best performance you can using a multi-layer model! The best reported test accuracy using a deep network is [97.1%](http://yaroslavvb.blogspot.com/2011/09/notmnist-dataset.html?showComment=1391023266211#c8758720086795711595).\n",
    "\n",
    "One avenue you can explore is to add multiple layers.\n",
    "\n",
    "Another one is to use learning rate decay:\n",
    "\n",
    "    global_step = tf.Variable(0)  # count the number of steps taken.\n",
    "    learning_rate = tf.train.exponential_decay(0.5, global_step, ...)\n",
    "    optimizer = tf.train.GradientDescentOptimizer(learning_rate).minimize(loss, global_step=global_step)\n",
    " \n",
    " ---\n"
   ]
  },
  {
   "cell_type": "markdown",
   "metadata": {},
   "source": [
    "- 2 hidden layers (2048, 1024)\n",
    "- dropout on both hidden layers\n",
    "- L2 regularization"
   ]
  },
  {
   "cell_type": "code",
   "execution_count": 10,
   "metadata": {
    "collapsed": true
   },
   "outputs": [],
   "source": [
    "batch_size = 128\n",
    "num_hidden_1 = 2048\n",
    "num_hidden_2 = 1024\n",
    "\n",
    "graph = tf.Graph()\n",
    "with graph.as_default():\n",
    "\n",
    "  # Input data. For the training data, we use a placeholder that will be fed\n",
    "  # at run time with a training minibatch.\n",
    "  x = tf.placeholder(tf.float32, shape=(None, image_size * image_size))\n",
    "  y_ = tf.placeholder(tf.float32, shape=(None, num_labels))\n",
    "  keep_prob = tf.placeholder('float')\n",
    "    \n",
    "  # Input -> Hidden1\n",
    "  w_1 = tf.Variable(\n",
    "    tf.truncated_normal([image_size * image_size, num_hidden_1]))\n",
    "  b_1 = tf.Variable(tf.zeros([num_hidden_1]))\n",
    "  h_1 = tf.nn.dropout(tf.nn.relu(tf.matmul(x, w_1) + b_1), keep_prob)\n",
    "    \n",
    "  # Hidden1 -> Hidden2\n",
    "  w_2 = tf.Variable(\n",
    "    tf.truncated_normal([num_hidden_1, num_hidden_2]))\n",
    "  b_2 = tf.Variable(tf.zeros([num_hidden_2]))\n",
    "  h_2 = tf.nn.dropout(tf.nn.relu(tf.matmul(h_1, w_2) + b_2), keep_prob)\n",
    "  \n",
    "  # Hidden2 -> Output\n",
    "  w_3 = tf.Variable(\n",
    "    tf.truncated_normal([num_hidden_2, num_labels]))\n",
    "  b_3 = tf.Variable(tf.zeros([num_labels]))\n",
    "  h_3 = tf.matmul(h_2, w_3) + b_3\n",
    "  \n",
    "  # Loss\n",
    "  loss = tf.reduce_mean(\n",
    "    tf.nn.softmax_cross_entropy_with_logits(h_3, y_))\n",
    "  \n",
    "  # Optimizer.\n",
    "  optimizer = tf.train.AdagradOptimizer(1e-3).minimize(loss + 1e-5 * (tf.nn.l2_loss(w_1) + tf.nn.l2_loss(w_2) + tf.nn.l2_loss(w_3)))\n",
    "  \n",
    "  # Predictions for the training, validation, and test data.\n",
    "  prediction = tf.nn.softmax(h_3)\n",
    "\n",
    "  correct_prediction = tf.equal(tf.argmax(prediction,1), tf.argmax(y_,1))\n",
    "  accuracy = tf.reduce_mean(tf.cast(correct_prediction, 'float'))"
   ]
  },
  {
   "cell_type": "code",
   "execution_count": 11,
   "metadata": {
    "collapsed": false
   },
   "outputs": [
    {
     "name": "stdout",
     "output_type": "stream",
     "text": [
      "Initialized\n",
      "Minibatch loss at step 0: 16843.279297\n",
      "Validation accuracy: 13.5%\n",
      "Minibatch loss at step 2000: 5620.586426\n",
      "Validation accuracy: 76.4%\n",
      "Minibatch loss at step 4000: 3942.778076\n",
      "Validation accuracy: 78.2%\n",
      "Minibatch loss at step 6000: 3085.673096\n",
      "Validation accuracy: 79.2%\n",
      "Minibatch loss at step 8000: 4248.289062\n",
      "Validation accuracy: 79.6%\n",
      "Minibatch loss at step 10000: 3506.438477\n",
      "Validation accuracy: 79.9%\n",
      "Minibatch loss at step 12000: 3245.044922\n",
      "Validation accuracy: 80.2%\n",
      "Minibatch loss at step 14000: 4125.744141\n",
      "Validation accuracy: 80.4%\n",
      "Minibatch loss at step 16000: 3333.512207\n",
      "Validation accuracy: 80.6%\n",
      "Minibatch loss at step 18000: 2453.872070\n",
      "Validation accuracy: 80.8%\n",
      "Minibatch loss at step 20000: 2277.604492\n",
      "Validation accuracy: 81.0%\n",
      "Minibatch loss at step 22000: 3556.410156\n",
      "Validation accuracy: 81.2%\n",
      "Minibatch loss at step 24000: 2105.003174\n",
      "Validation accuracy: 81.2%\n",
      "Minibatch loss at step 26000: 2753.843506\n",
      "Validation accuracy: 81.3%\n",
      "Minibatch loss at step 28000: 1755.736938\n",
      "Validation accuracy: 81.4%\n",
      "Minibatch loss at step 30000: 3162.377441\n",
      "Validation accuracy: 81.4%\n",
      "Test accuracy: 88.1%\n"
     ]
    }
   ],
   "source": [
    "num_steps = 30001\n",
    "\n",
    "with tf.Session(graph=graph) as session:\n",
    "  tf.initialize_all_variables().run()\n",
    "  print(\"Initialized\")\n",
    "  for step in range(num_steps):\n",
    "    # Pick an offset within the training data, which has been randomized.\n",
    "    # Note: we could use better randomization across epochs.\n",
    "    offset = (step * batch_size) % (train_labels.shape[0] - batch_size)\n",
    "    # Generate a minibatch.\n",
    "    batch_data = train_dataset[offset:(offset + batch_size), :]\n",
    "    batch_labels = train_labels[offset:(offset + batch_size), :]\n",
    "    # Prepare a dictionary telling the session where to feed the minibatch.\n",
    "    # The key of the dictionary is the placeholder node of the graph to be fed,\n",
    "    # and the value is the numpy array to feed to it.\n",
    "    feed_dict = {x: batch_data, y_: batch_labels, keep_prob: 0.5}\n",
    "    _, l = session.run(\n",
    "      [optimizer, loss], feed_dict=feed_dict)\n",
    "    if (step % 2000 == 0):\n",
    "      print(\"Minibatch loss at step %d: %f\" % (step, l))\n",
    "      print(\"Validation accuracy: %.1f%%\" % (accuracy.eval(feed_dict={x: valid_dataset, y_: valid_labels, keep_prob: 1.0}) * 100))\n",
    "  print(\"Test accuracy: %.1f%%\" % (accuracy.eval(feed_dict={x: test_dataset, y_: test_labels, keep_prob: 1.0}) * 100))"
   ]
  }
 ],
 "metadata": {
  "colab": {
   "default_view": {},
   "name": "3_regularization.ipynb",
   "provenance": [],
   "version": "0.3.2",
   "views": {}
  },
  "kernelspec": {
   "display_name": "Python 3",
   "language": "python",
   "name": "python3"
  },
  "language_info": {
   "codemirror_mode": {
    "name": "ipython",
    "version": 3
   },
   "file_extension": ".py",
   "mimetype": "text/x-python",
   "name": "python",
   "nbconvert_exporter": "python",
   "pygments_lexer": "ipython3",
   "version": "3.5.1"
  }
 },
 "nbformat": 4,
 "nbformat_minor": 0
}
